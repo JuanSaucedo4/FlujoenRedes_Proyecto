{
 "cells": [
  {
   "cell_type": "code",
   "execution_count": 2,
   "metadata": {},
   "outputs": [],
   "source": [
    "import numpy as np\n",
    "import pandas as pd"
   ]
  },
  {
   "cell_type": "code",
   "execution_count": 14,
   "metadata": {},
   "outputs": [],
   "source": [
    "def num_to_chair(arr):\n",
    "    x = str(arr[0]+1)\n",
    "    y = arr[1]\n",
    "    y = chr(y+65)\n",
    "    return x+y"
   ]
  },
  {
   "cell_type": "code",
   "execution_count": 15,
   "metadata": {},
   "outputs": [],
   "source": [
    "def chair_to_num(arr):\n",
    "    x = int(arr[:-1])-1\n",
    "    y = arr[-1]\n",
    "    y = ord(y)-65\n",
    "    return (x, y)"
   ]
  },
  {
   "cell_type": "code",
   "execution_count": 45,
   "metadata": {},
   "outputs": [],
   "source": [
    "def get_min_dist(vectors):\n",
    "    combs = [(vectors[i], vectors[j]) for i in range(len(vectors)) for j in range(i+1,len(vectors))]\n",
    "    from scipy.spatial import distance\n",
    "    values = list()\n",
    "    for comb in combs:\n",
    "        values.append(distance.euclidean(comb[0], comb[1]))\n",
    "    return min(values)"
   ]
  },
  {
   "cell_type": "code",
   "execution_count": 55,
   "metadata": {},
   "outputs": [],
   "source": [
    "def assign_flight(df, DepartureDate, FlightNumber):\n",
    "    # Filter date\n",
    "    filtered_df = df[(df['DepartureDate'] == DepartureDate) & (df['FlightNumber'] == FlightNumber)]\n",
    "    filtered_df = filtered_df.sort_values(['SeatBookDate', 'SeatBookDateTime', 'BookingBookDate'])\n",
    "    filtered_df['AssignedSeat'] = ''\n",
    "\n",
    "    # Get costs\n",
    "    cost = np.zeros((32, 6))\n",
    "    cost[0,:] = 39\n",
    "    cost[0,[1,-2]] = 34\n",
    "    cost[1:5,:] = 34\n",
    "    cost[1:5,[1,-2]] = 29\n",
    "    cost[5:11,:] = 27\n",
    "    cost[5:11,[1,-2]] = 22\n",
    "    cost[11:13,:] = 29\n",
    "    cost[11:13,[1,-2]] = 24\n",
    "    cost[13:23,:] = 18\n",
    "    cost[13:23,[1,-2]] = 12\n",
    "    cost[23:,:] = 14\n",
    "    cost[23:,[1,-2]] = 9\n",
    "    cost[-1,2:] = 99999\n",
    "\n",
    "    # Asigna los que compraron silla\n",
    "    chairs = list(filtered_df[~filtered_df['SeatBookDate'].isna()]['UnitDesignator'])\n",
    "    passengers = list(filtered_df[~filtered_df['SeatBookDate'].isna()]['PassengerID'])\n",
    "    for i in range(len(chairs)):\n",
    "        chair = chairs[i]\n",
    "        passenger = passengers[i]\n",
    "        cost[(chair_to_num(chair))] = passenger\n",
    "        filtered_df.loc[filtered_df['PassengerID'] == passenger, 'AssignedSeat'] = chair\n",
    "    \n",
    "    # Asigna el resto\n",
    "    bookings = list(filtered_df[filtered_df['SeatBookDateTime'].isna()]['RecordLocator'])\n",
    "    booking_set = set(bookings)\n",
    "    total_cost = 0\n",
    "    for booking in booking_set:\n",
    "        passengers = filtered_df.loc[(filtered_df['SeatBookDateTime'].isna()) & (filtered_df['RecordLocator'] == booking), 'PassengerID']\n",
    "        chairs = list()\n",
    "        for passenger in passengers:\n",
    "            min_cost = cost.min()\n",
    "            position = (np.asarray(cost == min_cost).nonzero()[0][0], np.asarray(cost == min_cost).nonzero()[1][0])\n",
    "            last_position = (np.asarray(cost == min_cost).nonzero()[0][-1], np.asarray(cost == min_cost).nonzero()[1][-1])\n",
    "            aux = chairs.copy()\n",
    "            aux.append(last_position)\n",
    "            # aux = list(aux)\n",
    "            aux = np.array(aux)\n",
    "            if len(chairs) == 0:\n",
    "                chair = num_to_chair(position)\n",
    "                total_cost += cost[(chair_to_num(chair))]\n",
    "                cost[(chair_to_num(chair))] = passenger\n",
    "                filtered_df.loc[filtered_df['PassengerID'] == passenger, 'AssignedSeat'] = chair\n",
    "                chairs.append(position)\n",
    "            elif get_min_dist(aux) > 1.5:\n",
    "                chair = num_to_chair(last_position)\n",
    "                total_cost += cost[(chair_to_num(chair))]\n",
    "                cost[(chair_to_num(chair))] = passenger\n",
    "                filtered_df.loc[filtered_df['PassengerID'] == passenger, 'AssignedSeat'] = chair\n",
    "                chairs.append(last_position)\n",
    "            elif np.asarray(cost == min_cost).nonzero()[0].shape[0] > 2:\n",
    "                for i in range(np.asarray(cost == min_cost).nonzero()[0].shape[0]):\n",
    "                    test_position = (np.asarray(cost == min_cost).nonzero()[0][i], np.asarray(cost == min_cost).nonzero()[1][i])\n",
    "                    aux = chairs\n",
    "                    aux.append(test_position)\n",
    "                    aux = list(aux)\n",
    "                    aux = np.array(aux)\n",
    "                    if get_min_dist(aux) > 1.5:\n",
    "                        chair = num_to_chair(test_position)\n",
    "                        total_cost += cost[(chair_to_num(chair))]\n",
    "                        cost[(chair_to_num(chair))] = passenger\n",
    "                        filtered_df.loc[filtered_df['PassengerID'] == passenger, 'AssignedSeat'] = chair\n",
    "                        chairs.append(test_position)\n",
    "                        break\n",
    "            else:\n",
    "                flag = False\n",
    "                for min_cost in np.unique(cost[(cost<1000)&(cost>min_cost)]):\n",
    "                    position = (np.asarray(cost == min_cost).nonzero()[0][0], np.asarray(cost == min_cost).nonzero()[1][0])\n",
    "                    last_position = (np.asarray(cost == min_cost).nonzero()[0][-1], np.asarray(cost == min_cost).nonzero()[1][-1])\n",
    "                    aux = chairs\n",
    "                    aux.append(test_position)\n",
    "                    aux = list(aux)\n",
    "                    aux = np.array(aux)\n",
    "                    if get_min_dist(aux) > 1.5:\n",
    "                        chair = num_to_chair(last_position)\n",
    "                        total_cost += cost[(chair_to_num(chair))]\n",
    "                        cost[(chair_to_num(chair))] = passenger\n",
    "                        filtered_df.loc[filtered_df['PassengerID'] == passenger, 'AssignedSeat'] = chair\n",
    "                        chairs.append(last_position)\n",
    "                    elif np.asarray(cost == min_cost).nonzero()[0].shape[0] > 2:\n",
    "                        for i in range(np.asarray(cost == min_cost).nonzero()[0].shape[0]):\n",
    "                            test_position = (np.asarray(cost == min_cost).nonzero()[0][i], np.asarray(cost == min_cost).nonzero()[1][i])\n",
    "                            aux = chairs\n",
    "                            aux.append(test_position)\n",
    "                            aux = list(aux)\n",
    "                            aux = np.array(aux)\n",
    "                            if get_min_dist(aux) > 1.5:\n",
    "                                chair = num_to_chair(test_position)\n",
    "                                total_cost += cost[(chair_to_num(chair))]\n",
    "                                cost[(chair_to_num(chair))] = passenger\n",
    "                                filtered_df.loc[filtered_df['PassengerID'] == passenger, 'AssignedSeat'] = chair\n",
    "                                chairs.append(test_position)\n",
    "                                flag = True\n",
    "                                break\n",
    "                        \n",
    "                        if flag:\n",
    "                            break\n",
    "                        \n",
    "\n",
    "    # Result to Excel\n",
    "    with pd.ExcelWriter(\n",
    "        \"output.xlsx\",\n",
    "        mode=\"a\",\n",
    "        engine=\"openpyxl\",\n",
    "        if_sheet_exists=\"replace\",\n",
    "    ) as writer:\n",
    "        filtered_df.to_excel(writer, sheet_name=f\"{FlightNumber}, {DepartureDate}\")\n",
    "    \n",
    "    return total_cost"
   ]
  },
  {
   "cell_type": "code",
   "execution_count": 54,
   "metadata": {},
   "outputs": [
    {
     "data": {
      "text/plain": [
       "array([12., 14., 18., 22., 24., 27., 29., 34., 39.])"
      ]
     },
     "execution_count": 54,
     "metadata": {},
     "output_type": "execute_result"
    }
   ],
   "source": [
    "np.unique(cost[(cost<1000)&(cost>9)])"
   ]
  },
  {
   "cell_type": "code",
   "execution_count": 50,
   "metadata": {},
   "outputs": [
    {
     "data": {
      "text/plain": [
       "array([[3.9000e+01, 3.4000e+01, 3.9000e+01, 3.9000e+01, 3.4000e+01,\n",
       "        3.9000e+01],\n",
       "       [3.4000e+01, 2.9000e+01, 3.4000e+01, 3.4000e+01, 2.9000e+01,\n",
       "        3.4000e+01],\n",
       "       [3.4000e+01, 2.9000e+01, 3.4000e+01, 3.4000e+01, 2.9000e+01,\n",
       "        3.4000e+01],\n",
       "       [3.4000e+01, 2.9000e+01, 3.4000e+01, 3.4000e+01, 2.9000e+01,\n",
       "        3.4000e+01],\n",
       "       [3.4000e+01, 2.9000e+01, 3.4000e+01, 3.4000e+01, 2.9000e+01,\n",
       "        3.4000e+01],\n",
       "       [2.7000e+01, 2.2000e+01, 2.7000e+01, 2.7000e+01, 2.2000e+01,\n",
       "        2.7000e+01],\n",
       "       [2.7000e+01, 2.2000e+01, 2.7000e+01, 2.7000e+01, 2.2000e+01,\n",
       "        2.7000e+01],\n",
       "       [2.7000e+01, 2.2000e+01, 2.7000e+01, 2.7000e+01, 2.2000e+01,\n",
       "        2.7000e+01],\n",
       "       [2.7000e+01, 2.2000e+01, 2.7000e+01, 2.7000e+01, 2.2000e+01,\n",
       "        2.7000e+01],\n",
       "       [2.7000e+01, 2.2000e+01, 2.7000e+01, 2.7000e+01, 2.2000e+01,\n",
       "        2.7000e+01],\n",
       "       [2.7000e+01, 2.2000e+01, 2.7000e+01, 2.7000e+01, 2.2000e+01,\n",
       "        2.7000e+01],\n",
       "       [2.9000e+01, 2.4000e+01, 2.9000e+01, 2.9000e+01, 2.4000e+01,\n",
       "        2.9000e+01],\n",
       "       [2.9000e+01, 2.4000e+01, 2.9000e+01, 2.9000e+01, 2.4000e+01,\n",
       "        2.9000e+01],\n",
       "       [1.8000e+01, 1.2000e+01, 1.8000e+01, 1.8000e+01, 1.2000e+01,\n",
       "        1.8000e+01],\n",
       "       [1.8000e+01, 1.2000e+01, 1.8000e+01, 1.8000e+01, 1.2000e+01,\n",
       "        1.8000e+01],\n",
       "       [1.8000e+01, 1.2000e+01, 1.8000e+01, 1.8000e+01, 1.2000e+01,\n",
       "        1.8000e+01],\n",
       "       [1.8000e+01, 1.2000e+01, 1.8000e+01, 1.8000e+01, 1.2000e+01,\n",
       "        1.8000e+01],\n",
       "       [1.8000e+01, 1.2000e+01, 1.8000e+01, 1.8000e+01, 1.2000e+01,\n",
       "        1.8000e+01],\n",
       "       [1.8000e+01, 1.2000e+01, 1.8000e+01, 1.8000e+01, 1.2000e+01,\n",
       "        1.8000e+01],\n",
       "       [1.8000e+01, 1.2000e+01, 1.8000e+01, 1.8000e+01, 1.2000e+01,\n",
       "        1.8000e+01],\n",
       "       [1.8000e+01, 1.2000e+01, 1.8000e+01, 1.8000e+01, 1.2000e+01,\n",
       "        1.8000e+01],\n",
       "       [1.8000e+01, 1.2000e+01, 1.8000e+01, 1.8000e+01, 1.2000e+01,\n",
       "        1.8000e+01],\n",
       "       [1.8000e+01, 1.2000e+01, 1.8000e+01, 1.8000e+01, 1.2000e+01,\n",
       "        1.8000e+01],\n",
       "       [1.4000e+01, 9.0000e+00, 1.4000e+01, 1.4000e+01, 9.0000e+00,\n",
       "        1.4000e+01],\n",
       "       [1.4000e+01, 9.0000e+00, 1.4000e+01, 1.4000e+01, 9.0000e+00,\n",
       "        1.4000e+01],\n",
       "       [1.4000e+01, 9.0000e+00, 1.4000e+01, 1.4000e+01, 9.0000e+00,\n",
       "        1.4000e+01],\n",
       "       [1.4000e+01, 9.0000e+00, 1.4000e+01, 1.4000e+01, 9.0000e+00,\n",
       "        1.4000e+01],\n",
       "       [1.4000e+01, 9.0000e+00, 1.4000e+01, 1.4000e+01, 9.0000e+00,\n",
       "        1.4000e+01],\n",
       "       [1.4000e+01, 9.0000e+00, 1.4000e+01, 1.4000e+01, 9.0000e+00,\n",
       "        1.4000e+01],\n",
       "       [1.4000e+01, 9.0000e+00, 1.4000e+01, 1.4000e+01, 9.0000e+00,\n",
       "        1.4000e+01],\n",
       "       [1.4000e+01, 9.0000e+00, 1.4000e+01, 1.4000e+01, 9.0000e+00,\n",
       "        1.4000e+01],\n",
       "       [1.4000e+01, 9.0000e+00, 9.9999e+04, 9.9999e+04, 9.9999e+04,\n",
       "        9.9999e+04]])"
      ]
     },
     "execution_count": 50,
     "metadata": {},
     "output_type": "execute_result"
    }
   ],
   "source": [
    "cost."
   ]
  },
  {
   "cell_type": "code",
   "execution_count": 21,
   "metadata": {},
   "outputs": [],
   "source": [
    "A = np.array([[0, 0], [0, 1], [0, 3], [1, 2], [2, 2]])\n",
    "B = np.array([[ 0.1,  0.4,  0.5],\n",
    "    [ 0.7,  0.0,  0.4],\n",
    "    [ 0.8,  0.4,  0.7],\n",
    "    [ 0.9,  0.3,  0.8]])"
   ]
  },
  {
   "cell_type": "code",
   "execution_count": 35,
   "metadata": {},
   "outputs": [],
   "source": [
    "a = (1,1)\n",
    "b = (2,3)\n",
    "c = (5,5)\n",
    "test = list()\n",
    "test.append(a)\n",
    "test.append(b)\n",
    "test.append(c)"
   ]
  },
  {
   "cell_type": "code",
   "execution_count": 36,
   "metadata": {},
   "outputs": [
    {
     "data": {
      "text/plain": [
       "[(1, 1), (2, 3), (5, 5)]"
      ]
     },
     "execution_count": 36,
     "metadata": {},
     "output_type": "execute_result"
    }
   ],
   "source": [
    "test"
   ]
  },
  {
   "cell_type": "code",
   "execution_count": 39,
   "metadata": {},
   "outputs": [
    {
     "data": {
      "text/plain": [
       "[((1, 1), (2, 3)), ((1, 1), (5, 5)), ((2, 3), (5, 5))]"
      ]
     },
     "execution_count": 39,
     "metadata": {},
     "output_type": "execute_result"
    }
   ],
   "source": [
    "combs = [(test[i], test[j]) for i in range(len(test)) for j in range(i+1,len(test))]\n",
    "combs"
   ]
  },
  {
   "cell_type": "code",
   "execution_count": 42,
   "metadata": {},
   "outputs": [
    {
     "name": "stdout",
     "output_type": "stream",
     "text": [
      "((1, 1), (2, 3))\n",
      "((1, 1), (5, 5))\n",
      "((2, 3), (5, 5))\n"
     ]
    }
   ],
   "source": [
    "for comb in combs:\n",
    "    print(comb)"
   ]
  },
  {
   "cell_type": "code",
   "execution_count": 41,
   "metadata": {},
   "outputs": [
    {
     "data": {
      "text/plain": [
       "(1, 1)"
      ]
     },
     "execution_count": 41,
     "metadata": {},
     "output_type": "execute_result"
    }
   ],
   "source": [
    "combs[1][0]"
   ]
  },
  {
   "cell_type": "code",
   "execution_count": 44,
   "metadata": {},
   "outputs": [
    {
     "data": {
      "text/plain": [
       "2.23606797749979"
      ]
     },
     "execution_count": 44,
     "metadata": {},
     "output_type": "execute_result"
    }
   ],
   "source": []
  },
  {
   "cell_type": "code",
   "execution_count": 12,
   "metadata": {},
   "outputs": [
    {
     "data": {
      "text/plain": [
       "(55600, 10)"
      ]
     },
     "execution_count": 12,
     "metadata": {},
     "output_type": "execute_result"
    }
   ],
   "source": [
    "df = pd.read_excel('BD SEAT .xlsx')\n",
    "df.shape"
   ]
  },
  {
   "cell_type": "code",
   "execution_count": 49,
   "metadata": {},
   "outputs": [
    {
     "data": {
      "text/plain": [
       "1322.0"
      ]
     },
     "execution_count": 49,
     "metadata": {},
     "output_type": "execute_result"
    }
   ],
   "source": [
    "assign_flight(df, '2022-06-26', 56261)"
   ]
  }
 ],
 "metadata": {
  "c1_recart": "7.20.0-57c20131aabc1dc2a8c675852d80a7da",
  "kernelspec": {
   "display_name": "Python 3.9.6 64-bit",
   "language": "python",
   "name": "python3"
  },
  "language_info": {
   "codemirror_mode": {
    "name": "ipython",
    "version": 3
   },
   "file_extension": ".py",
   "mimetype": "text/x-python",
   "name": "python",
   "nbconvert_exporter": "python",
   "pygments_lexer": "ipython3",
   "version": "3.9.6"
  },
  "vscode": {
   "interpreter": {
    "hash": "6235766afef7af741ab04306c2785c0528555e55ba2852d994924c6317114b14"
   }
  }
 },
 "nbformat": 4,
 "nbformat_minor": 2
}
